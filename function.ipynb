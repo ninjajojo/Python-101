{
 "cells": [
  {
   "cell_type": "markdown",
   "id": "a19ca47d",
   "metadata": {},
   "source": [
    "Question 4: Function to calculate and print area of rectangle using length and width as inputs, create prompt for Length & Width. "
   ]
  },
  {
   "cell_type": "code",
   "execution_count": null,
   "id": "77582190",
   "metadata": {},
   "outputs": [
    {
     "name": "stdout",
     "output_type": "stream",
     "text": [
      "The area of the rectangle is 503.95\n"
     ]
    }
   ],
   "source": [
    "\n",
    "\n",
    "#Define function to calculate area of rectangle\n",
    "def rectangle_area(length, width): \n",
    "    rectangle_area = length * width\n",
    "    print (\"The area of the rectangle is\", '{:.2f}'.format(rectangle_area))\n",
    "\n",
    "#Create prompt for user to input length and width  \n",
    "length = float(input(\"Enter the length of the rectangle: \"))\n",
    "width = float(input(\"Enter the width of the rectangle: \"))\n",
    "\n",
    "#Call function to calculate area of rectangle\n",
    "rectangle_area(length, width)\n"
   ]
  }
 ],
 "metadata": {
  "kernelspec": {
   "display_name": "Python 3 (ipykernel)",
   "language": "python",
   "name": "python3"
  },
  "language_info": {
   "codemirror_mode": {
    "name": "ipython",
    "version": 3
   },
   "file_extension": ".py",
   "mimetype": "text/x-python",
   "name": "python",
   "nbconvert_exporter": "python",
   "pygments_lexer": "ipython3",
   "version": "3.9.13"
  }
 },
 "nbformat": 4,
 "nbformat_minor": 5
}
