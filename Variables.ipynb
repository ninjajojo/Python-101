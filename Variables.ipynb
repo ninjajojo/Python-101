{
 "cells": [
  {
   "cell_type": "markdown",
   "id": "caf5d4a6",
   "metadata": {},
   "source": [
    "QUESTION 1: Declare variables, perform small transformation and print   "
   ]
  },
  {
   "cell_type": "code",
   "execution_count": 1,
   "id": "c8d15ce2",
   "metadata": {},
   "outputs": [
    {
     "name": "stdout",
     "output_type": "stream",
     "text": [
      "Welcome to Python Jo\n",
      "In 10 years, you will be 35 years old.\n",
      "Your height in meters is 1.75\n"
     ]
    }
   ],
   "source": [
    "# This is a Python script that defines several variables with different data types.\n",
    "\n",
    "name = 'Jo'\n",
    "age = 25\n",
    "height = 175\n",
    "weight = 70\n",
    "\n",
    "# Print the variables\n",
    "print(\"Welcome to Python\", name)\n",
    "\n",
    "# Calculate age and print\n",
    "age_10years = age + 10\n",
    "print(\"In 10 years, you will be\", age_10years, \"years old.\")\n",
    "\n",
    "# Calculate height in meters and print\n",
    "height_meters = height / 100\n",
    "print(\"Your height in meters is\", height_meters)\n"
   ]
  }
 ],
 "metadata": {
  "kernelspec": {
   "display_name": "base",
   "language": "python",
   "name": "python3"
  },
  "language_info": {
   "codemirror_mode": {
    "name": "ipython",
    "version": 3
   },
   "file_extension": ".py",
   "mimetype": "text/x-python",
   "name": "python",
   "nbconvert_exporter": "python",
   "pygments_lexer": "ipython3",
   "version": "3.9.13"
  }
 },
 "nbformat": 4,
 "nbformat_minor": 5
}
