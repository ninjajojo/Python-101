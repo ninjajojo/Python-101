{
 "cells": [
  {
   "cell_type": "markdown",
   "id": "f605f835",
   "metadata": {},
   "source": [
    "Question 3: Prompt user to input integer nnn and print even numbers from 1 to  nnn"
   ]
  },
  {
   "cell_type": "code",
   "execution_count": null,
   "id": "28677bee",
   "metadata": {},
   "outputs": [
    {
     "name": "stdout",
     "output_type": "stream",
     "text": [
      "Please enter a number: 10\n",
      "2\n",
      "4\n",
      "6\n",
      "8\n",
      "10\n"
     ]
    }
   ],
   "source": [
    "#Create prompt for user input of a preferred integer   \n",
    "x = 20\n",
    "\n",
    "#x = int(input(\"Please enter a number: \")) - not working in VScode - only to be used in Jupyter Notebook\n",
    "\n",
    "#Create loop to check and print odd numbers from 1 to inputted x \n",
    "for i in range(1,y):\n",
    "    i += 1\n",
    "    if i % 2 == 0:\n",
    "        print(i)"
   ]
  },
  {
   "cell_type": "code",
   "execution_count": null,
   "id": "394c9c4f",
   "metadata": {},
   "outputs": [],
   "source": []
  }
 ],
 "metadata": {
  "kernelspec": {
   "display_name": "Python 3 (ipykernel)",
   "language": "python",
   "name": "python3"
  },
  "language_info": {
   "codemirror_mode": {
    "name": "ipython",
    "version": 3
   },
   "file_extension": ".py",
   "mimetype": "text/x-python",
   "name": "python",
   "nbconvert_exporter": "python",
   "pygments_lexer": "ipython3",
   "version": "3.9.13"
  }
 },
 "nbformat": 4,
 "nbformat_minor": 5
}
